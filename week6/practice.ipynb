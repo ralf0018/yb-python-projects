{
 "cells": [
  {
   "cell_type": "code",
   "execution_count": null,
   "id": "27fe8598",
   "metadata": {},
   "outputs": [],
   "source": [
    "keys = ['a', 'b', 'c']\n",
    "values = [1, 2, 3]\n",
    "dict = {k: v for k,v in zip(keys,values)}\n",
    "print(dict)"
   ]
  },
  {
   "cell_type": "code",
   "execution_count": null,
   "id": "1750aea1",
   "metadata": {},
   "outputs": [],
   "source": [
    "dict1 = {'a':1, 'b':2}\n",
    "dict2 = {'b':3, 'c':4}\n",
    "merged_dict = {**dict1, **dict2}\n",
    "print(merged_dict)"
   ]
  },
  {
   "cell_type": "code",
   "execution_count": null,
   "id": "b61b73bf",
   "metadata": {},
   "outputs": [],
   "source": [
    "dict1 = {'a':1, 'b':2}\n",
    "dict2 = {'b':3, 'c':4}\n",
    "dict3 = {'d':5, 'e':6}\n",
    "merged_dict1 = {**dict1, **dict2, **dict3}\n",
    "print(merged_dict1)"
   ]
  },
  {
   "cell_type": "code",
   "execution_count": null,
   "id": "bd4c43ff",
   "metadata": {},
   "outputs": [],
   "source": [
    "dict1 = {'a':1, 'b':2, 'c':3}\n",
    "dict2 = {'d':4, 'e':5, 'f':6}\n",
    "merged_dict = {**{k:v for k,v in dict1.items() if k in 'aeiou'},\n",
    "                **{k:v for k,v in dict2.items() if k in 'aeiou'}}\n",
    "print(merged_dict)"
   ]
  },
  {
   "cell_type": "code",
   "execution_count": null,
   "id": "bd3f4b31",
   "metadata": {},
   "outputs": [],
   "source": [
    "dict1.items()"
   ]
  },
  {
   "cell_type": "code",
   "execution_count": null,
   "id": "61cf2908",
   "metadata": {},
   "outputs": [],
   "source": [
    "a = 1+1\n",
    "a"
   ]
  },
  {
   "cell_type": "code",
   "execution_count": null,
   "id": "2032d3e6",
   "metadata": {},
   "outputs": [],
   "source": [
    "# last expression in python, only when \"_\" is not assigned\n",
    "_ "
   ]
  },
  {
   "cell_type": "code",
   "execution_count": null,
   "id": "7d69c971",
   "metadata": {},
   "outputs": [],
   "source": [
    "# ignoring values\n",
    "filename, _ = \"filename.txt\".split('.')\n",
    "a=1+1\n",
    "a\n",
    "_ # \"_\" is assigned with \"txt\""
   ]
  },
  {
   "cell_type": "code",
   "execution_count": null,
   "id": "67e759ce",
   "metadata": {},
   "outputs": [],
   "source": [
    "# as a loop variable\n",
    "for _ in range(5):\n",
    "    print(\"hello\")\n",
    "_"
   ]
  },
  {
   "cell_type": "code",
   "execution_count": null,
   "id": "4b3022ee",
   "metadata": {},
   "outputs": [],
   "source": [
    "# Formatting Large Numbers\n",
    "large_num = 1_000_000\n",
    "large_num"
   ]
  },
  {
   "cell_type": "code",
   "execution_count": null,
   "id": "4b45b91d",
   "metadata": {},
   "outputs": [],
   "source": [
    "# Placeholder for temporary or unimportant variables\n",
    "x,_,y = (1,\"test\",3) \n",
    "x,y"
   ]
  },
  {
   "cell_type": "code",
   "execution_count": null,
   "id": "bc39eb4c",
   "metadata": {},
   "outputs": [],
   "source": [
    "names = [\"Alice\", \"Bob\", \"Cindy\", \"Dave\", \"Eva\"]\n",
    "for i, name in enumerate(names):\n",
    "    print(i, name)\n",
    "print(\"\\n\")\n",
    "for i, name in enumerate(names, start = 1):\n",
    "    print(i, name)"
   ]
  },
  {
   "cell_type": "code",
   "execution_count": null,
   "id": "abe3278f",
   "metadata": {},
   "outputs": [],
   "source": [
    "names = ['Ada', 'Bob', 'Cate']\n",
    "ages = [25, 30, 35 ]\n",
    "paired = zip(names, ages)\n",
    "print(paired)\n",
    "print(list(paired))"
   ]
  },
  {
   "cell_type": "code",
   "execution_count": 48,
   "id": "484c64c3",
   "metadata": {},
   "outputs": [
    {
     "name": "stdout",
     "output_type": "stream",
     "text": [
      "[(1, 'Ada', 29), (2, 'Bob', 30), (3, 'Cate', 31)]\n"
     ]
    }
   ],
   "source": [
    "ids = [1,2,3]\n",
    "names = ['Ada', 'Bob', 'Cate', 'Dave']\n",
    "grades = ['A', 'A-', 'A+', 'A']\n",
    "students = list(zip(ids, names, ages))\n",
    "print(students)\n"
   ]
  },
  {
   "cell_type": "code",
   "execution_count": null,
   "id": "627dd7ca",
   "metadata": {},
   "outputs": [
    {
     "ename": "TypeError",
     "evalue": "'dict' object is not callable",
     "output_type": "error",
     "traceback": [
      "\u001b[31m---------------------------------------------------------------------------\u001b[39m",
      "\u001b[31mTypeError\u001b[39m                                 Traceback (most recent call last)",
      "\u001b[36mCell\u001b[39m\u001b[36m \u001b[39m\u001b[32mIn[64]\u001b[39m\u001b[32m, line 8\u001b[39m\n\u001b[32m      5\u001b[39m students = \u001b[38;5;28mzip\u001b[39m(ids, name_grades)\n\u001b[32m      6\u001b[39m \u001b[38;5;66;03m# print(list(students))\u001b[39;00m\n\u001b[32m      7\u001b[39m \u001b[38;5;66;03m# lst = list(students)\u001b[39;00m\n\u001b[32m----> \u001b[39m\u001b[32m8\u001b[39m d = \u001b[38;5;28mdict\u001b[39m(students) \n\u001b[32m      9\u001b[39m \u001b[38;5;66;03m# dict(students)\u001b[39;00m\n\u001b[32m     11\u001b[39m \u001b[38;5;28mprint\u001b[39m(students)\n",
      "\u001b[31mTypeError\u001b[39m: 'dict' object is not callable"
     ]
    }
   ],
   "source": [
    "ids = [1,2,3]\n",
    "names = ['Ada', 'Bob', 'Cate', 'Dave']\n",
    "grades = ['A', 'A-', 'A+', 'A']\n",
    "name_grades = zip(names, grades)\n",
    "students = zip(ids, name_grades)\n",
    "d = dict(students) \n",
    "print(d)\n"
   ]
  }
 ],
 "metadata": {
  "kernelspec": {
   "display_name": "PY3.12",
   "language": "python",
   "name": "python3"
  },
  "language_info": {
   "codemirror_mode": {
    "name": "ipython",
    "version": 3
   },
   "file_extension": ".py",
   "mimetype": "text/x-python",
   "name": "python",
   "nbconvert_exporter": "python",
   "pygments_lexer": "ipython3",
   "version": "3.12.9"
  }
 },
 "nbformat": 4,
 "nbformat_minor": 5
}
