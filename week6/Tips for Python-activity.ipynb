{
 "cells": [
  {
   "cell_type": "code",
   "execution_count": 13,
   "id": "a663efff-02f1-4c45-89e8-5c95d97f2ced",
   "metadata": {},
   "outputs": [
    {
     "name": "stdout",
     "output_type": "stream",
     "text": [
      "Sample Data:\n",
      "   ID Category      Value       Date\n",
      "0   1        A  27.233823 2023-01-01\n",
      "1   2        C  22.951585 2023-01-02\n",
      "2   3        C  35.309145 2023-01-03\n",
      "3   4        A  86.008976 2023-01-04\n",
      "4   5        B  32.980169 2023-01-05\n"
     ]
    }
   ],
   "source": [
    "import pandas as pd\n",
    "import numpy as np\n",
    "\n",
    "# Section 1: Data Preparation\n",
    "# Task: Create a synthetic dataset with a mix of numerical, categorical, and datetime data.\n",
    "data = {\n",
    "    'ID': range(1, 101),\n",
    "    'Category': np.random.choice(['A', 'B', 'C'], size=100),\n",
    "    'Value': np.random.uniform(10, 100, size=100),\n",
    "    'Date': pd.date_range(start='2023-01-01', periods=100)\n",
    "}\n",
    "\n",
    "df = pd.DataFrame(data)\n",
    "print(\"Sample Data:\")\n",
    "print(df.head())"
   ]
  },
  {
   "cell_type": "code",
   "execution_count": 17,
   "id": "6f0afac1",
   "metadata": {},
   "outputs": [
    {
     "name": "stdout",
     "output_type": "stream",
     "text": [
      "\n",
      "Pivot Table:\n",
      "Date              1          2          3          4\n",
      "Category                                            \n",
      "A         62.120115  56.890140  61.767726  52.847438\n",
      "B         66.527037  58.129378  45.954888  59.712109\n",
      "C         62.793077  55.797798  61.731941  63.717811\n"
     ]
    }
   ],
   "source": [
    "# Section 2: Data Transformation\n",
    "# Task: Perform the following transformations:\n",
    "# 1. Add a new column that categorizes 'Value' into bins: Low (<30), Medium (30-70), High (>70).\n",
    "# 2. Create a pivot table showing the average 'Value' for each 'Category' and 'Date'.\n",
    "\n",
    "# Adding the 'Value_Category' column\n",
    "def categorize_value(value):\n",
    "    if value < 30:\n",
    "        return 'Low'\n",
    "    elif value <= 70:\n",
    "        return 'Medium'\n",
    "    else:\n",
    "        return 'High'\n",
    "df['Value_Category'] = df['Value'].apply(categorize_value)\n",
    "\n",
    "# Creating the pivot table\n",
    "pivot_table = df.pivot_table(\n",
    "    values='Value', \n",
    "    index='Category', \n",
    "    columns=df['Date'].dt.month, \n",
    "    aggfunc='mean', \n",
    "    fill_value=0\n",
    ")\n",
    "\n",
    "print(\"\\nPivot Table:\")\n",
    "print(pivot_table)"
   ]
  },
  {
   "cell_type": "code",
   "execution_count": 20,
   "id": "6f26d467",
   "metadata": {},
   "outputs": [
    {
     "name": "stdout",
     "output_type": "stream",
     "text": [
      "\n",
      "Top 3 Dates with Highest Average Value for Each Category:\n",
      "   Category       Date      Value\n",
      "3         A 2023-01-14  99.871627\n",
      "34        A 2023-03-31  97.032069\n",
      "32        A 2023-03-26  95.958277\n",
      "57        B 2023-03-01  95.513430\n",
      "68        B 2023-04-04  94.774351\n",
      "50        B 2023-02-16  93.642752\n",
      "82        C 2023-02-06  99.975870\n",
      "83        C 2023-02-07  98.823185\n",
      "71        C 2023-01-06  96.173516\n",
      "\n",
      "Data with Cumulative Sum:\n",
      "   ID Category      Value  Cumulative_Value\n",
      "0   1        A  27.233823         27.233823\n",
      "1   2        C  22.951585         22.951585\n",
      "2   3        C  35.309145         58.260731\n",
      "3   4        A  86.008976        113.242799\n",
      "4   5        B  32.980169         32.980169\n",
      "5   6        C  96.173516        154.434247\n",
      "6   7        C  72.491735        226.925982\n",
      "7   8        B  92.117814        125.097983\n",
      "8   9        C  70.435996        297.361978\n",
      "9  10        A  20.372385        133.615184\n"
     ]
    }
   ],
   "source": [
    "# Section 3: Advanced Data Analysis\n",
    "# Task: Perform advanced analysis to:\n",
    "# 1. Identify the top 3 dates with the highest average 'Value' for each category.\n",
    "# 2. Calculate the cumulative sum of 'Value' for each category over time.\n",
    "\n",
    "# Top 3 dates with highest average 'Value' for each category\n",
    "top_dates = df.groupby(['Category', 'Date'])['Value'].mean().reset_index()\n",
    "top_dates = top_dates.sort_values(['Category', 'Value'], ascending=[True, False])\n",
    "top_3_dates = top_dates.groupby('Category').head(3)\n",
    "\n",
    "print(\"\\nTop 3 Dates with Highest Average Value for Each Category:\")\n",
    "print(top_3_dates)\n",
    "\n",
    "# Cumulative sum of 'Value' for each category\n",
    "df['Cumulative_Value'] = df.groupby('Category')['Value'].cumsum()\n",
    "\n",
    "print(\"\\nData with Cumulative Sum:\")\n",
    "print(df[['ID', 'Category', 'Value', 'Cumulative_Value']].head(10))"
   ]
  },
  {
   "cell_type": "code",
   "execution_count": 1,
   "id": "07bc372e-0bba-42aa-b92f-1821f664976e",
   "metadata": {},
   "outputs": [
    {
     "name": "stdout",
     "output_type": "stream",
     "text": [
      "[{'name': 'Alice', 'age': 28}, {'name': 'Charlie', 'age': 30}]\n"
     ]
    }
   ],
   "source": [
    "# extract information with age greater than 25 from the following list of dictionaries\n",
    "data = [{\"name\": \"Alice\", \"age\": 28}, {\"name\": \"Bob\", \"age\": 24}, {\"name\": \"Charlie\", \"age\": 30}]\n",
    "extracted = [person for person in data if person[\"age\"] > 25]\n",
    "print(extracted)"
   ]
  },
  {
   "cell_type": "code",
   "execution_count": 3,
   "id": "4d7663b4-e991-43a8-9f44-a37c1ad87b50",
   "metadata": {},
   "outputs": [
    {
     "name": "stdout",
     "output_type": "stream",
     "text": [
      "[1, 2, 3, 4, 5, 6, 7, 8, 9]\n"
     ]
    }
   ],
   "source": [
    "# use list comprehension to flatten the matrix\n",
    "matrix = [[1, 2, 3], [4, 5, 6], [7, 8, 9]]\n",
    "flattened = [num for nums in matrix for num in nums]\n",
    "print(flattened)"
   ]
  },
  {
   "cell_type": "code",
   "execution_count": 4,
   "id": "40ab8c19-ad6c-4830-90aa-d30da64e2060",
   "metadata": {},
   "outputs": [
    {
     "name": "stdout",
     "output_type": "stream",
     "text": [
      "[1 2 3 4 5 6 7 8 9]\n"
     ]
    }
   ],
   "source": [
    "import numpy as np\n",
    "res = np.array(matrix).flatten()\n",
    "print(res)"
   ]
  },
  {
   "cell_type": "code",
   "execution_count": 5,
   "id": "163bdfe0-c2c9-400c-b221-432f902aea57",
   "metadata": {},
   "outputs": [
    {
     "name": "stdout",
     "output_type": "stream",
     "text": [
      "[93, 97, 83, 70, 60, 99]\n"
     ]
    }
   ],
   "source": [
    "# use enumerate() for looping to add 5 extra point to each grade in the list, the 5th one add 10 \n",
    "grades = [88, 92, 78, 65, 50, 94]\n",
    "for i,grade in enumerate(grades):\n",
    "  if i == 4:\n",
    "    grades[i] = grade +10\n",
    "  else:\n",
    "    grades[i] = grade +5\n",
    "print(grades)"
   ]
  },
  {
   "cell_type": "code",
   "execution_count": 7,
   "id": "d069230f-2c5d-4c16-bbf9-576ffa3f7031",
   "metadata": {},
   "outputs": [
    {
     "name": "stdout",
     "output_type": "stream",
     "text": [
      "[100, 300, 500]\n"
     ]
    }
   ],
   "source": [
    "# filter out elements depend on their index: \n",
    "# use list comprehension and enumerate() to get elements with even index\n",
    "data = [100, 200, 300, 400, 500]\n",
    "new_list = [num for i,num in enumerate(data, start=1) if i%2 != 0]\n",
    "print(new_list)"
   ]
  },
  {
   "cell_type": "code",
   "execution_count": 8,
   "id": "ebdc579d-5829-4204-9814-253753ea6766",
   "metadata": {},
   "outputs": [
    {
     "name": "stdout",
     "output_type": "stream",
     "text": [
      "{'name': 'Alice', 'age': 25, 'grade': 'A'}\n"
     ]
    }
   ],
   "source": [
    "# create a dictionary from lists using zip()\n",
    "keys = ['name', 'age', 'grade']\n",
    "values = ['Alice', 25, 'A']\n",
    "dic = dict(zip(keys,values))\n",
    "print(dic)"
   ]
  },
  {
   "cell_type": "code",
   "execution_count": 1,
   "id": "96eabba4-1b73-40dd-80ad-de0f45bb4c81",
   "metadata": {},
   "outputs": [
    {
     "name": "stdout",
     "output_type": "stream",
     "text": [
      "[{'name': 'Jack', 'grade': 'A-', 'age': 16}, {'name': 'Joss', 'grade': 'A+', 'age': 19}, {'name': 'John', 'grade': 'A', 'age': 20}, {'name': 'Jane', 'grade': 'B', 'age': 21}, {'name': 'Dave', 'grade': 'C', 'age': 25}]\n"
     ]
    }
   ],
   "source": [
    "# sort the dictionary based on the ages using lambda\n",
    "students = [\n",
    "    {'name': \"John\", 'grade': \"A\", 'age': 20}, \n",
    "    {'name': \"Jane\", 'grade': \"B\", 'age': 21}, \n",
    "    {'name': \"Joss\", 'grade': \"A+\", 'age': 19}, \n",
    "    {'name': \"Jack\", 'grade': \"A-\", 'age': 16}, \n",
    "    {'name': \"Dave\", 'grade': \"C\", 'age': 25}, \n",
    "]\n",
    "students.sort(key=lambda x:x[\"age\"])\n",
    "print(students)"
   ]
  },
  {
   "cell_type": "code",
   "execution_count": 2,
   "id": "1332bf19-f03a-4c5b-ac2f-c1fa58c54767",
   "metadata": {},
   "outputs": [
    {
     "name": "stdout",
     "output_type": "stream",
     "text": [
      "[{'name': 'Bob', 'age': 25, 'salary': 50000}, {'name': 'Alice', 'age': 30, 'salary': 80000}, {'name': 'Charlie', 'age': 35, 'salary': 120000}]\n"
     ]
    }
   ],
   "source": [
    "# Sort by age, then by salary if ages are the same\n",
    "# use lambda\n",
    "employees = [\n",
    "    {'name': 'Alice', 'age': 30, 'salary': 80000},\n",
    "    {'name': 'Bob', 'age': 25, 'salary': 50000},\n",
    "    {'name': 'Charlie', 'age': 35, 'salary': 120000},\n",
    "]\n",
    "employees.sort(key=lambda x:(x[\"age\"], x['salary']))\n",
    "print(employees)"
   ]
  },
  {
   "cell_type": "code",
   "execution_count": null,
   "id": "dac9b074-5e9a-41f3-bee9-b6d9857e798c",
   "metadata": {},
   "outputs": [],
   "source": []
  },
  {
   "cell_type": "code",
   "execution_count": 45,
   "id": "ad414ac1-a032-4d8e-a8ae-0d8180ffbeb6",
   "metadata": {},
   "outputs": [],
   "source": [
    "# Generators are highly useful in data-heavy applications:\n",
    "\n",
    "# Reading Large Files: Use generators to read large files line by line without loading the entire file into memory.\n",
    "# Data Streaming: Stream data entries for real-time data processing.\n",
    "# Large Calculations: Break down massive calculations into smaller, more manageable chunks."
   ]
  },
  {
   "cell_type": "code",
   "execution_count": null,
   "id": "ed9e15c4-fb82-487b-a20c-66dd903b925c",
   "metadata": {},
   "outputs": [],
   "source": []
  },
  {
   "cell_type": "code",
   "execution_count": null,
   "id": "d82eb6fc-95d7-4f91-b5e3-deef3f5dece6",
   "metadata": {},
   "outputs": [],
   "source": []
  },
  {
   "cell_type": "code",
   "execution_count": null,
   "id": "e65d69a7-a698-4bd6-909d-12c9336ced5e",
   "metadata": {},
   "outputs": [],
   "source": []
  },
  {
   "cell_type": "code",
   "execution_count": null,
   "id": "11256002-68c2-4954-b14f-6822574718f1",
   "metadata": {},
   "outputs": [],
   "source": []
  },
  {
   "cell_type": "code",
   "execution_count": null,
   "id": "34203ad5-da1c-4742-bf73-b611f7e74476",
   "metadata": {},
   "outputs": [],
   "source": []
  }
 ],
 "metadata": {
  "kernelspec": {
   "display_name": "Python 3",
   "language": "python",
   "name": "python3"
  },
  "language_info": {
   "codemirror_mode": {
    "name": "ipython",
    "version": 3
   },
   "file_extension": ".py",
   "mimetype": "text/x-python",
   "name": "python",
   "nbconvert_exporter": "python",
   "pygments_lexer": "ipython3",
   "version": "3.12.10"
  }
 },
 "nbformat": 4,
 "nbformat_minor": 5
}
