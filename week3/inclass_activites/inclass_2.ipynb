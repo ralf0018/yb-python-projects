{
 "cells": [
  {
   "cell_type": "code",
   "execution_count": null,
   "id": "fe1fd147",
   "metadata": {},
   "outputs": [
    {
     "name": "stdout",
     "output_type": "stream",
     "text": [
      "1\n",
      "2\n",
      "6\n",
      "24\n",
      "120\n",
      "720\n",
      "5040\n",
      "40320\n",
      "362880\n",
      "3628800\n",
      "3628800\n"
     ]
    }
   ],
   "source": [
    "def Factorial(n):\n",
    "    n=int(n)\n",
    "    result = int(1)\n",
    "    if n<0:\n",
    "        print(\"error\")\n",
    "    elif n==0 or n==1:\n",
    "        return result\n",
    "    else:\n",
    "        for i in range(1,n+1,1):\n",
    "            result = result * i\n",
    "            print(result)\n",
    "        return result\n",
    "    \n",
    "print(Factorial(10))"
   ]
  }
 ],
 "metadata": {
  "kernelspec": {
   "display_name": "base",
   "language": "python",
   "name": "python3"
  },
  "language_info": {
   "codemirror_mode": {
    "name": "ipython",
    "version": 3
   },
   "file_extension": ".py",
   "mimetype": "text/x-python",
   "name": "python",
   "nbconvert_exporter": "python",
   "pygments_lexer": "ipython3",
   "version": "3.12.7"
  }
 },
 "nbformat": 4,
 "nbformat_minor": 5
}
