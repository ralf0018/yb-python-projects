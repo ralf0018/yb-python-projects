{
  "cells": [
    {
      "cell_type": "code",
      "execution_count": 1,
      "metadata": {
        "colab": {
          "base_uri": "https://localhost:8080/"
        },
        "id": "ZsolVnksV9mR",
        "outputId": "9898711f-ec35-41bd-bf50-af640d462d5e"
      },
      "outputs": [
        {
          "name": "stdout",
          "output_type": "stream",
          "text": [
            "The area is 6.0\n"
          ]
        }
      ],
      "source": [
        "def calc_area():\n",
        "  #input the base and length of the rectangle\n",
        "  a = float(input('please input the length: '))\n",
        "  b = float(input('please input the width: '))\n",
        "\n",
        "  #calculate the area, and round to 2 decimal\n",
        "  area = round(a*b,2)\n",
        "\n",
        "  #out put he area and\n",
        "  print(f'The area is {area}')\n",
        "\n",
        "calc_area()"
      ]
    }
  ],
  "metadata": {
    "colab": {
      "provenance": []
    },
    "kernelspec": {
      "display_name": "base",
      "language": "python",
      "name": "python3"
    },
    "language_info": {
      "name": "python",
      "version": "3.12.7"
    }
  },
  "nbformat": 4,
  "nbformat_minor": 0
}
